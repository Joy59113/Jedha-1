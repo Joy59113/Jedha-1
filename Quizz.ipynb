{
 "cells": [
  {
   "cell_type": "code",
   "execution_count": null,
   "metadata": {},
   "outputs": [],
   "source": [
    "print(\"Here you have your quiz responses !\")\n",
    "print('-------')\n",
    "print()\n",
    "\n",
    "\n",
    "question1 = input(\"What year did the First World War begin?\")\n",
    "while question1 != \"1914\":\n",
    "    print('Your answer : {}'.format(question1))\n",
    "    print(\"Too bad! That is not the correct answer\")\n",
    "    question1 = input(\"What year did the First World War begin?\")\n",
    "print('Your answer : {}'.format(question1))\n",
    "print(\"Good job! This is the right answer\")\n",
    "print()\n",
    "\n",
    "\n",
    "question2 = input(\"where was the african nations' cup played in 2024?\")\n",
    "while question2 != \"Ivoiry coast\":\n",
    "    print('Your answer : {}'.format(question2))\n",
    "    print(\"Too bad! That is not the correct answer\")\n",
    "    question2 = input(\"where was the african nations' cup played in 2024?\")\n",
    "    print('Your answer : {}'.format(question2))\n",
    "    print(\"Good job! This is the right answer\")\n",
    "\n",
    "question3 = input(\"what is the world's largest mountain?\")\n",
    "while question3 != \"mont Everest\":\n",
    "    print('Your answer : {}'.format(question3))\n",
    "    print(\"Too bad! That is not the correct answer\")\n",
    "    question3 = input(\"what is the world's largest mountain?\")\n",
    "    print('Your answer : {}'.format(question3))\n",
    "    print(\"Good job! This is the right answer\")"
   ]
  }
 ],
 "metadata": {
  "language_info": {
   "name": "python"
  }
 },
 "nbformat": 4,
 "nbformat_minor": 2
}
